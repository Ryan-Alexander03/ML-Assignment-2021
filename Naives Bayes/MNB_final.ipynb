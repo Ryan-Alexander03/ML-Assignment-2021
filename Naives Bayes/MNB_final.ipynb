{
 "cells": [
  {
   "cell_type": "markdown",
   "metadata": {},
   "source": [
    "Name & Student Number:\n",
    "▪ Ryan Alexander – 1827474\n",
    "▪ Xin Nian – 1760829\n",
    "▪ Kineta Padiachee – 1853416\n",
    "▪ Bianco Van Der Ross – 1827456"
   ]
  },
  {
   "cell_type": "markdown",
   "metadata": {},
   "source": [
    "# Multinomial Naives Bayes "
   ]
  },
  {
   "cell_type": "code",
   "execution_count": 472,
   "metadata": {},
   "outputs": [],
   "source": [
    "import numpy as np\n",
    "import pandas as pd\n",
    "import matplotlib.pyplot as plt\n",
    "import operator\n",
    "import re"
   ]
  },
  {
   "cell_type": "code",
   "execution_count": 473,
   "metadata": {},
   "outputs": [
    {
     "name": "stdout",
     "output_type": "stream",
     "text": [
      "(1033, 2)\n"
     ]
    },
    {
     "data": {
      "text/html": [
       "<div>\n",
       "<style scoped>\n",
       "    .dataframe tbody tr th:only-of-type {\n",
       "        vertical-align: middle;\n",
       "    }\n",
       "\n",
       "    .dataframe tbody tr th {\n",
       "        vertical-align: top;\n",
       "    }\n",
       "\n",
       "    .dataframe thead th {\n",
       "        text-align: right;\n",
       "    }\n",
       "</style>\n",
       "<table border=\"1\" class=\"dataframe\">\n",
       "  <thead>\n",
       "    <tr style=\"text-align: right;\">\n",
       "      <th></th>\n",
       "      <th>title</th>\n",
       "      <th>label</th>\n",
       "    </tr>\n",
       "  </thead>\n",
       "  <tbody>\n",
       "    <tr>\n",
       "      <th>1028</th>\n",
       "      <td>Method launched by another class doesn&amp;#39;t work</td>\n",
       "      <td>python</td>\n",
       "    </tr>\n",
       "    <tr>\n",
       "      <th>1029</th>\n",
       "      <td>How to plot integrating over a slice of a two ...</td>\n",
       "      <td>python</td>\n",
       "    </tr>\n",
       "    <tr>\n",
       "      <th>1030</th>\n",
       "      <td>how can I print a value that correspond to a d...</td>\n",
       "      <td>python</td>\n",
       "    </tr>\n",
       "    <tr>\n",
       "      <th>1031</th>\n",
       "      <td>Put legend for all lines on the matplolit</td>\n",
       "      <td>python</td>\n",
       "    </tr>\n",
       "    <tr>\n",
       "      <th>1032</th>\n",
       "      <td>Delayed time series prediction</td>\n",
       "      <td>python</td>\n",
       "    </tr>\n",
       "  </tbody>\n",
       "</table>\n",
       "</div>"
      ],
      "text/plain": [
       "                                                  title   label\n",
       "1028  Method launched by another class doesn&#39;t work  python\n",
       "1029  How to plot integrating over a slice of a two ...  python\n",
       "1030  how can I print a value that correspond to a d...  python\n",
       "1031          Put legend for all lines on the matplolit  python\n",
       "1032                     Delayed time series prediction  python"
      ]
     },
     "execution_count": 473,
     "metadata": {},
     "output_type": "execute_result"
    }
   ],
   "source": [
    "#imports the dataset file using panda \n",
    "df = pd.read_csv('StackOverflow-Dataset-cut.csv',delimiter = ';')\n",
    "print(df.shape)#displayes how many elements are present withhin the file and how many classes there are\n",
    "df.tail()"
   ]
  },
  {
   "cell_type": "code",
   "execution_count": 474,
   "metadata": {},
   "outputs": [
    {
     "data": {
      "text/plain": [
       "python        0.504356\n",
       "javascript    0.495644\n",
       "Name: label, dtype: float64"
      ]
     },
     "execution_count": 474,
     "metadata": {},
     "output_type": "execute_result"
    }
   ],
   "source": [
    "df['label'].value_counts(normalize=True)#displays the ratio of classes present within thhe dataset "
   ]
  },
  {
   "cell_type": "code",
   "execution_count": 475,
   "metadata": {},
   "outputs": [
    {
     "name": "stdout",
     "output_type": "stream",
     "text": [
      "(775, 2)\n",
      "(258, 2)\n"
     ]
    }
   ],
   "source": [
    "# Randomize the dataset\n",
    "data_randomized = df.sample(frac=1, random_state=1)\n",
    "\n",
    "# Calculate index for split\n",
    "training_test_index = round(len(data_randomized) * 0.75)#75%training data with 25 percent testing data\n",
    "\n",
    "# Split into training and test sets\n",
    "training_set = data_randomized[:training_test_index].reset_index(drop=True)\n",
    "test_set = data_randomized[training_test_index:].reset_index(drop=True)\n",
    "\n",
    "print(training_set.shape)#displayes how many elements are present withhin the training data and how many classes there are\n",
    "print(test_set.shape)#displayes how many elements are present withhin the test data and how many classes there are"
   ]
  },
  {
   "cell_type": "code",
   "execution_count": 476,
   "metadata": {},
   "outputs": [
    {
     "data": {
      "text/plain": [
       "python        0.505806\n",
       "javascript    0.494194\n",
       "Name: label, dtype: float64"
      ]
     },
     "execution_count": 476,
     "metadata": {},
     "output_type": "execute_result"
    }
   ],
   "source": [
    "training_set['label'].value_counts(normalize=True)\n",
    "#displays the ratio of classes present within the training set "
   ]
  },
  {
   "cell_type": "code",
   "execution_count": 477,
   "metadata": {},
   "outputs": [
    {
     "data": {
      "text/plain": [
       "javascript    0.5\n",
       "python        0.5\n",
       "Name: label, dtype: float64"
      ]
     },
     "execution_count": 477,
     "metadata": {},
     "output_type": "execute_result"
    }
   ],
   "source": [
    "test_set['label'].value_counts(normalize=True)\n",
    "#displays the ratio of classes present within the test se"
   ]
  },
  {
   "cell_type": "code",
   "execution_count": 478,
   "metadata": {},
   "outputs": [
    {
     "data": {
      "text/html": [
       "<div>\n",
       "<style scoped>\n",
       "    .dataframe tbody tr th:only-of-type {\n",
       "        vertical-align: middle;\n",
       "    }\n",
       "\n",
       "    .dataframe tbody tr th {\n",
       "        vertical-align: top;\n",
       "    }\n",
       "\n",
       "    .dataframe thead th {\n",
       "        text-align: right;\n",
       "    }\n",
       "</style>\n",
       "<table border=\"1\" class=\"dataframe\">\n",
       "  <thead>\n",
       "    <tr style=\"text-align: right;\">\n",
       "      <th></th>\n",
       "      <th>title</th>\n",
       "      <th>label</th>\n",
       "    </tr>\n",
       "  </thead>\n",
       "  <tbody>\n",
       "    <tr>\n",
       "      <th>772</th>\n",
       "      <td>How can a make new list from a 2d list with sp...</td>\n",
       "      <td>python</td>\n",
       "    </tr>\n",
       "    <tr>\n",
       "      <th>773</th>\n",
       "      <td>Python3 commmands not working in my virtual en...</td>\n",
       "      <td>python</td>\n",
       "    </tr>\n",
       "    <tr>\n",
       "      <th>774</th>\n",
       "      <td>Iterate over DOM elements and dynamically add ...</td>\n",
       "      <td>javascript</td>\n",
       "    </tr>\n",
       "  </tbody>\n",
       "</table>\n",
       "</div>"
      ],
      "text/plain": [
       "                                                 title       label\n",
       "772  How can a make new list from a 2d list with sp...      python\n",
       "773  Python3 commmands not working in my virtual en...      python\n",
       "774  Iterate over DOM elements and dynamically add ...  javascript"
      ]
     },
     "execution_count": 478,
     "metadata": {},
     "output_type": "execute_result"
    }
   ],
   "source": [
    "training_set.tail(3)#displays tail/end of training set before removing punction and lower casing"
   ]
  },
  {
   "cell_type": "code",
   "execution_count": 479,
   "metadata": {},
   "outputs": [
    {
     "data": {
      "text/html": [
       "<div>\n",
       "<style scoped>\n",
       "    .dataframe tbody tr th:only-of-type {\n",
       "        vertical-align: middle;\n",
       "    }\n",
       "\n",
       "    .dataframe tbody tr th {\n",
       "        vertical-align: top;\n",
       "    }\n",
       "\n",
       "    .dataframe thead th {\n",
       "        text-align: right;\n",
       "    }\n",
       "</style>\n",
       "<table border=\"1\" class=\"dataframe\">\n",
       "  <thead>\n",
       "    <tr style=\"text-align: right;\">\n",
       "      <th></th>\n",
       "      <th>title</th>\n",
       "      <th>label</th>\n",
       "    </tr>\n",
       "  </thead>\n",
       "  <tbody>\n",
       "    <tr>\n",
       "      <th>772</th>\n",
       "      <td>how can a make new list from a 2d list with sp...</td>\n",
       "      <td>python</td>\n",
       "    </tr>\n",
       "    <tr>\n",
       "      <th>773</th>\n",
       "      <td>python3 commmands not working in my virtual en...</td>\n",
       "      <td>python</td>\n",
       "    </tr>\n",
       "    <tr>\n",
       "      <th>774</th>\n",
       "      <td>iterate over dom elements and dynamically add ...</td>\n",
       "      <td>javascript</td>\n",
       "    </tr>\n",
       "  </tbody>\n",
       "</table>\n",
       "</div>"
      ],
      "text/plain": [
       "                                                 title       label\n",
       "772  how can a make new list from a 2d list with sp...      python\n",
       "773  python3 commmands not working in my virtual en...      python\n",
       "774  iterate over dom elements and dynamically add ...  javascript"
      ]
     },
     "execution_count": 479,
     "metadata": {},
     "output_type": "execute_result"
    }
   ],
   "source": [
    "training_set['title'] = training_set['title'].str.replace(   '\\W', ' ') # Removes punctuation\n",
    "training_set['title'] = training_set['title'].str.lower()#sets all text to lower case\n",
    "training_set.tail(3)#displays tail/end of training set after removing punction and lower casing"
   ]
  },
  {
   "cell_type": "code",
   "execution_count": 480,
   "metadata": {},
   "outputs": [],
   "source": [
    "training_set['title'] = training_set['title'].str.split()\n",
    "\n",
    "vocabulary = []#creates a empty list to be used to make an vuild a vocabulary/dictionary \n",
    "for title in training_set['title']:\n",
    "    for word in title:\n",
    "        vocabulary.append(word)#adds each word present in the training dataset to the vocabulary list \n",
    "\n",
    "vocabulary = list(set(vocabulary))"
   ]
  },
  {
   "cell_type": "code",
   "execution_count": 481,
   "metadata": {},
   "outputs": [
    {
     "data": {
      "text/plain": [
       "2036"
      ]
     },
     "execution_count": 481,
     "metadata": {},
     "output_type": "execute_result"
    }
   ],
   "source": [
    "len(vocabulary)#prints out length of vocabulary\n"
   ]
  },
  {
   "cell_type": "code",
   "execution_count": 482,
   "metadata": {},
   "outputs": [],
   "source": [
    "word_counts_per_title = {unique_word: [0] * len(training_set['title']) for unique_word in vocabulary}\n",
    "\n",
    "for index, title in enumerate(training_set['title']):\n",
    "    for word in title:\n",
    "        word_counts_per_title[word][index] += 1"
   ]
  },
  {
   "cell_type": "code",
   "execution_count": 483,
   "metadata": {},
   "outputs": [],
   "source": [
    "word_counts = pd.DataFrame(word_counts_per_title)\n"
   ]
  },
  {
   "cell_type": "code",
   "execution_count": 484,
   "metadata": {
    "scrolled": true
   },
   "outputs": [
    {
     "data": {
      "text/html": [
       "<div>\n",
       "<style scoped>\n",
       "    .dataframe tbody tr th:only-of-type {\n",
       "        vertical-align: middle;\n",
       "    }\n",
       "\n",
       "    .dataframe tbody tr th {\n",
       "        vertical-align: top;\n",
       "    }\n",
       "\n",
       "    .dataframe thead th {\n",
       "        text-align: right;\n",
       "    }\n",
       "</style>\n",
       "<table border=\"1\" class=\"dataframe\">\n",
       "  <thead>\n",
       "    <tr style=\"text-align: right;\">\n",
       "      <th></th>\n",
       "      <th>title</th>\n",
       "      <th>label</th>\n",
       "      <th>remove</th>\n",
       "      <th>pagination</th>\n",
       "      <th>last</th>\n",
       "      <th>parse</th>\n",
       "      <th>system</th>\n",
       "      <th>sklearn</th>\n",
       "      <th>known</th>\n",
       "      <th>automation</th>\n",
       "      <th>...</th>\n",
       "      <th>formset</th>\n",
       "      <th>rotating</th>\n",
       "      <th>divs</th>\n",
       "      <th>divided</th>\n",
       "      <th>alphabetical</th>\n",
       "      <th>animation</th>\n",
       "      <th>parent</th>\n",
       "      <th>color</th>\n",
       "      <th>bashoperator</th>\n",
       "      <th>decrease</th>\n",
       "    </tr>\n",
       "  </thead>\n",
       "  <tbody>\n",
       "    <tr>\n",
       "      <th>0</th>\n",
       "      <td>[python, how, do, i, output, all, the, text, c...</td>\n",
       "      <td>python</td>\n",
       "      <td>0</td>\n",
       "      <td>0</td>\n",
       "      <td>0</td>\n",
       "      <td>0</td>\n",
       "      <td>0</td>\n",
       "      <td>0</td>\n",
       "      <td>0</td>\n",
       "      <td>0</td>\n",
       "      <td>...</td>\n",
       "      <td>0</td>\n",
       "      <td>0</td>\n",
       "      <td>0</td>\n",
       "      <td>0</td>\n",
       "      <td>0</td>\n",
       "      <td>0</td>\n",
       "      <td>0</td>\n",
       "      <td>0</td>\n",
       "      <td>0</td>\n",
       "      <td>0</td>\n",
       "    </tr>\n",
       "    <tr>\n",
       "      <th>1</th>\n",
       "      <td>[scrollby, invoked, through, execute_script, i...</td>\n",
       "      <td>python</td>\n",
       "      <td>0</td>\n",
       "      <td>0</td>\n",
       "      <td>0</td>\n",
       "      <td>0</td>\n",
       "      <td>0</td>\n",
       "      <td>0</td>\n",
       "      <td>0</td>\n",
       "      <td>0</td>\n",
       "      <td>...</td>\n",
       "      <td>0</td>\n",
       "      <td>0</td>\n",
       "      <td>0</td>\n",
       "      <td>0</td>\n",
       "      <td>0</td>\n",
       "      <td>0</td>\n",
       "      <td>0</td>\n",
       "      <td>0</td>\n",
       "      <td>0</td>\n",
       "      <td>0</td>\n",
       "    </tr>\n",
       "    <tr>\n",
       "      <th>2</th>\n",
       "      <td>[conditionnally, change, color, on, multi, sel...</td>\n",
       "      <td>javascript</td>\n",
       "      <td>0</td>\n",
       "      <td>0</td>\n",
       "      <td>0</td>\n",
       "      <td>0</td>\n",
       "      <td>0</td>\n",
       "      <td>0</td>\n",
       "      <td>0</td>\n",
       "      <td>0</td>\n",
       "      <td>...</td>\n",
       "      <td>0</td>\n",
       "      <td>0</td>\n",
       "      <td>0</td>\n",
       "      <td>0</td>\n",
       "      <td>0</td>\n",
       "      <td>0</td>\n",
       "      <td>0</td>\n",
       "      <td>1</td>\n",
       "      <td>0</td>\n",
       "      <td>0</td>\n",
       "    </tr>\n",
       "    <tr>\n",
       "      <th>3</th>\n",
       "      <td>[vuejs, sever, side, rendering, computed, prop...</td>\n",
       "      <td>javascript</td>\n",
       "      <td>0</td>\n",
       "      <td>0</td>\n",
       "      <td>0</td>\n",
       "      <td>0</td>\n",
       "      <td>0</td>\n",
       "      <td>0</td>\n",
       "      <td>0</td>\n",
       "      <td>0</td>\n",
       "      <td>...</td>\n",
       "      <td>0</td>\n",
       "      <td>0</td>\n",
       "      <td>0</td>\n",
       "      <td>0</td>\n",
       "      <td>0</td>\n",
       "      <td>0</td>\n",
       "      <td>0</td>\n",
       "      <td>0</td>\n",
       "      <td>0</td>\n",
       "      <td>0</td>\n",
       "    </tr>\n",
       "    <tr>\n",
       "      <th>4</th>\n",
       "      <td>[finding, out, if, a, user, has, a, certain, r...</td>\n",
       "      <td>javascript</td>\n",
       "      <td>0</td>\n",
       "      <td>0</td>\n",
       "      <td>0</td>\n",
       "      <td>0</td>\n",
       "      <td>0</td>\n",
       "      <td>0</td>\n",
       "      <td>0</td>\n",
       "      <td>0</td>\n",
       "      <td>...</td>\n",
       "      <td>0</td>\n",
       "      <td>0</td>\n",
       "      <td>0</td>\n",
       "      <td>0</td>\n",
       "      <td>0</td>\n",
       "      <td>0</td>\n",
       "      <td>0</td>\n",
       "      <td>0</td>\n",
       "      <td>0</td>\n",
       "      <td>0</td>\n",
       "    </tr>\n",
       "  </tbody>\n",
       "</table>\n",
       "<p>5 rows × 2038 columns</p>\n",
       "</div>"
      ],
      "text/plain": [
       "                                               title       label  remove  \\\n",
       "0  [python, how, do, i, output, all, the, text, c...      python       0   \n",
       "1  [scrollby, invoked, through, execute_script, i...      python       0   \n",
       "2  [conditionnally, change, color, on, multi, sel...  javascript       0   \n",
       "3  [vuejs, sever, side, rendering, computed, prop...  javascript       0   \n",
       "4  [finding, out, if, a, user, has, a, certain, r...  javascript       0   \n",
       "\n",
       "   pagination  last  parse  system  sklearn  known  automation  ...  formset  \\\n",
       "0           0     0      0       0        0      0           0  ...        0   \n",
       "1           0     0      0       0        0      0           0  ...        0   \n",
       "2           0     0      0       0        0      0           0  ...        0   \n",
       "3           0     0      0       0        0      0           0  ...        0   \n",
       "4           0     0      0       0        0      0           0  ...        0   \n",
       "\n",
       "   rotating  divs  divided  alphabetical  animation  parent  color  \\\n",
       "0         0     0        0             0          0       0      0   \n",
       "1         0     0        0             0          0       0      0   \n",
       "2         0     0        0             0          0       0      1   \n",
       "3         0     0        0             0          0       0      0   \n",
       "4         0     0        0             0          0       0      0   \n",
       "\n",
       "   bashoperator  decrease  \n",
       "0             0         0  \n",
       "1             0         0  \n",
       "2             0         0  \n",
       "3             0         0  \n",
       "4             0         0  \n",
       "\n",
       "[5 rows x 2038 columns]"
      ]
     },
     "execution_count": 484,
     "metadata": {},
     "output_type": "execute_result"
    }
   ],
   "source": [
    "training_set_clean = pd.concat([training_set, word_counts], axis=1)\n",
    "training_set_clean.head()"
   ]
  },
  {
   "cell_type": "code",
   "execution_count": 485,
   "metadata": {},
   "outputs": [],
   "source": [
    "# Isolating python and java title first\n",
    "python_title = training_set_clean[training_set_clean['label'] == 'python']\n",
    "java_title = training_set_clean[training_set_clean['label'] == 'javascript']\n",
    "\n",
    "# P(python) and P(java) /Probability of having one oe the other label\n",
    "p_python = len(python_title) / len(training_set_clean)\n",
    "p_java = len(java_title) / len(training_set_clean)\n",
    "\n",
    "# N_python\n",
    "n_words_per_python_title = python_title['title'].apply(len)\n",
    "n_python = n_words_per_python_title.sum()\n",
    "\n",
    "# N_java\n",
    "n_words_per_java_title = java_title['title'].apply(len)\n",
    "n_java = n_words_per_java_title.sum()\n",
    "\n",
    "# N_Vocabulary\n",
    "n_vocabulary = len(vocabulary)\n",
    "\n",
    "# Laplace smoothing\n",
    "alpha = 1"
   ]
  },
  {
   "cell_type": "code",
   "execution_count": 486,
   "metadata": {},
   "outputs": [],
   "source": [
    "# Initiate parameters\n",
    "parameters_python = {unique_word:0 for unique_word in vocabulary}\n",
    "parameters_java = {unique_word:0 for unique_word in vocabulary}\n",
    "\n",
    "# Calculate parameters\n",
    "for word in vocabulary:\n",
    "    n_word_given_python = python_title[word].sum() # python_title already defined\n",
    "    p_word_given_python = (n_word_given_python + alpha) / (n_python + alpha*n_vocabulary)\n",
    "    parameters_python[word] = p_word_given_python\n",
    "\n",
    "    n_word_given_java = java_title[word].sum() # java_title already defined\n",
    "    p_word_given_java = (n_word_given_java + alpha) / (n_java + alpha*n_vocabulary)\n",
    "    parameters_java[word] = p_word_given_java"
   ]
  },
  {
   "cell_type": "code",
   "execution_count": 487,
   "metadata": {},
   "outputs": [],
   "source": [
    "def classify_test_set(title):\n",
    "    title = re.sub('\\W', ' ', title)#removes punctioation from test data \n",
    "    title = title.lower().split()#lower cases the test data\n",
    "\n",
    "    p_python_given_title = p_python\n",
    "    p_java_given_title = p_java\n",
    "\n",
    "    for word in title:\n",
    "        if word in parameters_python:\n",
    "            p_python_given_title *= parameters_python[word]#checks probability of title in python vocabulary\n",
    "\n",
    "        if word in parameters_java:\n",
    "            p_java_given_title *= parameters_java[word]#checks probability of title in python vocabulary\n",
    "\n",
    "    if p_java_given_title > p_python_given_title:#if probability of the title is higher in the javascript vocabulary then assign predicted to javascript \n",
    "        return 'javascript'\n",
    "    elif p_python_given_title > p_java_given_title:#if probability of the title is higher in the python vocabulary then assign predicted to python\n",
    "        return 'python'\n",
    "    else:\n",
    "        return 'needs human classification'#if probability of the title is equal to eachothher then then error occurs and requires human intervention"
   ]
  },
  {
   "cell_type": "code",
   "execution_count": 488,
   "metadata": {},
   "outputs": [
    {
     "data": {
      "text/html": [
       "<div>\n",
       "<style scoped>\n",
       "    .dataframe tbody tr th:only-of-type {\n",
       "        vertical-align: middle;\n",
       "    }\n",
       "\n",
       "    .dataframe tbody tr th {\n",
       "        vertical-align: top;\n",
       "    }\n",
       "\n",
       "    .dataframe thead th {\n",
       "        text-align: right;\n",
       "    }\n",
       "</style>\n",
       "<table border=\"1\" class=\"dataframe\">\n",
       "  <thead>\n",
       "    <tr style=\"text-align: right;\">\n",
       "      <th></th>\n",
       "      <th>title</th>\n",
       "      <th>label</th>\n",
       "      <th>predicted</th>\n",
       "    </tr>\n",
       "  </thead>\n",
       "  <tbody>\n",
       "    <tr>\n",
       "      <th>0</th>\n",
       "      <td>Add multiple values in a row of a dataframe wh...</td>\n",
       "      <td>python</td>\n",
       "      <td>python</td>\n",
       "    </tr>\n",
       "    <tr>\n",
       "      <th>1</th>\n",
       "      <td>Passing jQuery data table row as argument to J...</td>\n",
       "      <td>javascript</td>\n",
       "      <td>javascript</td>\n",
       "    </tr>\n",
       "    <tr>\n",
       "      <th>2</th>\n",
       "      <td>Recursively build a query string from JSON object</td>\n",
       "      <td>javascript</td>\n",
       "      <td>javascript</td>\n",
       "    </tr>\n",
       "    <tr>\n",
       "      <th>3</th>\n",
       "      <td>onclick=&amp;quot;doSomething([object Object])&amp;quo...</td>\n",
       "      <td>javascript</td>\n",
       "      <td>python</td>\n",
       "    </tr>\n",
       "    <tr>\n",
       "      <th>4</th>\n",
       "      <td>Is it possible to un-babelify (un-transform) a...</td>\n",
       "      <td>javascript</td>\n",
       "      <td>javascript</td>\n",
       "    </tr>\n",
       "  </tbody>\n",
       "</table>\n",
       "</div>"
      ],
      "text/plain": [
       "                                               title       label   predicted\n",
       "0  Add multiple values in a row of a dataframe wh...      python      python\n",
       "1  Passing jQuery data table row as argument to J...  javascript  javascript\n",
       "2  Recursively build a query string from JSON object  javascript  javascript\n",
       "3  onclick=&quot;doSomething([object Object])&quo...  javascript      python\n",
       "4  Is it possible to un-babelify (un-transform) a...  javascript  javascript"
      ]
     },
     "execution_count": 488,
     "metadata": {},
     "output_type": "execute_result"
    }
   ],
   "source": [
    "test_set['predicted'] = test_set['title'].apply(classify_test_set)#adds and prints all the predicted outcomes to its actual outcomes\n",
    "test_set.head()"
   ]
  },
  {
   "cell_type": "code",
   "execution_count": 489,
   "metadata": {},
   "outputs": [
    {
     "name": "stdout",
     "output_type": "stream",
     "text": [
      "Confusion Matrix:\n",
      "Predicted    0    1\n",
      "Actual             \n",
      "0          104   25\n",
      "1           13  116\n",
      "-------------------------\n",
      "Accuracy: 0.8527131782945736\n"
     ]
    }
   ],
   "source": [
    "y_actual = []\n",
    "y_pred = []\n",
    "for row in test_set.iterrows():\n",
    "    row = row[1]\n",
    "    y_actual= test_set['label'].apply(lambda x:0 if x=='python' else 1)\n",
    "    y_pred=test_set['predicted'].apply(lambda x:0 if x=='python' else 1)\n",
    "    \n",
    "correct = 0\n",
    "total = test_set.shape[0]\n",
    "\n",
    "for row in test_set.iterrows():\n",
    "   row = row[1]\n",
    "   if row['label'] == row['predicted']:\n",
    "      correct += 1\n",
    "    \n",
    "    #creates confusion matrix and prints the accuracy \n",
    "print(\"Confusion Matrix:\")\n",
    "y_actual = pd.Series(y_actual, name='Actual')\n",
    "y_pred = pd.Series(y_pred, name='Predicted')\n",
    "df_confusion = pd.crosstab(y_actual,y_pred)\n",
    "print(df_confusion)\n",
    "\n",
    "print(\"-------------------------\")\n",
    "print('Accuracy:', correct/total)"
   ]
  }
 ],
 "metadata": {
  "kernelspec": {
   "display_name": "Python 3",
   "language": "python",
   "name": "python3"
  },
  "language_info": {
   "codemirror_mode": {
    "name": "ipython",
    "version": 3
   },
   "file_extension": ".py",
   "mimetype": "text/x-python",
   "name": "python",
   "nbconvert_exporter": "python",
   "pygments_lexer": "ipython3",
   "version": "3.8.5"
  }
 },
 "nbformat": 4,
 "nbformat_minor": 4
}
