{
 "cells": [
  {
   "cell_type": "code",
   "execution_count": 1,
   "metadata": {},
   "outputs": [
    {
     "name": "stderr",
     "output_type": "stream",
     "text": [
      "[nltk_data] Downloading package stopwords to /home/xin/nltk_data...\n",
      "[nltk_data]   Package stopwords is already up-to-date!\n"
     ]
    }
   ],
   "source": [
    "import numpy as np\n",
    "import pandas as pd\n",
    "import matplotlib.pyplot as plt\n",
    "import nltk\n",
    "nltk.download('stopwords')\n",
    "from nltk.corpus import stopwords\n",
    "import re\n",
    "import time\n",
    "import seaborn as sns\n",
    "import sklearn"
   ]
  },
  {
   "cell_type": "code",
   "execution_count": 2,
   "metadata": {},
   "outputs": [
    {
     "name": "stdout",
     "output_type": "stream",
     "text": [
      "                                                title   label\n",
      "0               Using entries from other kivy classes  python\n",
      "1    Package python software with pylucene dependency  python\n",
      "2            Extracting time with regex from a string  python\n",
      "3   How do I add specific headers before each form...  python\n",
      "4   Barplot from a dataframe using a column to set...  python\n",
      "5   python how to collect a specific file from a l...  python\n",
      "6   &lt;select&gt; element is displayed with defau...  python\n",
      "7   Multiple GET Requests, merge json response int...  python\n",
      "8   Python SpeechRecognition mic in list_microphon...  python\n",
      "9                 speech recognition not taking input  python\n",
      "10  Loops Help in Python... reordering cards in a ...  python\n",
      "11  Python error: input expected at most 1 argumen...  python\n",
      "12  SpeechToText conversion using Python - SpeechR...  python\n",
      "13        I CAN&#39;T CREATE TEMPORARY TABLE IN MYSQL  python\n",
      "14  Improving Implementation of Binet&#39;s Formul...  python\n",
      "15  Run python GUI application as service on ubunt...  python\n",
      "16  Select call only working on tcp inputs twice. ...  python\n",
      "17  Why does duplicate node name happen here (in K...  python\n",
      "18  Try Catch issue with multiple connection strin...  python\n",
      "19                  Unable to draw lines using OpenCV  python\n"
     ]
    }
   ],
   "source": [
    "df = pd.read_csv('StackOverflow-Dataset.csv', delimiter=\";\")\n",
    "print(df.head(20))"
   ]
  },
  {
   "cell_type": "code",
   "execution_count": 3,
   "metadata": {},
   "outputs": [
    {
     "name": "stdout",
     "output_type": "stream",
     "text": [
      "135140 words before cleaned\n"
     ]
    }
   ],
   "source": [
    "wordsPreClean = df['title'].apply(lambda x: len(x.split(' '))).sum()\n",
    "print(wordsPreClean , \"words before cleaned\")"
   ]
  },
  {
   "cell_type": "code",
   "execution_count": 4,
   "metadata": {},
   "outputs": [],
   "source": [
    "def print_plot(index):\n",
    "    example = df[df.index == index][['title', 'label']].values[0]\n",
    "    if len(example) > 0:\n",
    "        print(example[0])\n",
    "        print('label:', example[1])"
   ]
  },
  {
   "cell_type": "markdown",
   "metadata": {},
   "source": [
    "```\n",
    "Method for clean text\n",
    "```"
   ]
  },
  {
   "cell_type": "code",
   "execution_count": 5,
   "metadata": {},
   "outputs": [],
   "source": [
    "REPLACE_BY_SPACE_RE = re.compile('[/(){}\\[\\]\\|@,;]')\n",
    "BAD_SYMBOLS_RE = re.compile('[^0-9a-z #+_]')\n",
    "STOPWORDS = set(stopwords.words('english'))\n",
    "\n",
    "def clean_text(text):\n",
    "    text = text.lower() # lowercase text\n",
    "    text = REPLACE_BY_SPACE_RE.sub(' ', text) # replace REPLACE_BY_SPACE_RE symbols by space in text\n",
    "    text = BAD_SYMBOLS_RE.sub('', text) # delete symbols which are in BAD_SYMBOLS_RE from text\n",
    "    text = ' '.join(word for word in text.split() if word not in STOPWORDS) # delete stopwors from text\n",
    "    return text"
   ]
  },
  {
   "cell_type": "code",
   "execution_count": 6,
   "metadata": {},
   "outputs": [
    {
     "name": "stdout",
     "output_type": "stream",
     "text": [
      "  !before cleaned\n",
      "Creating a histogram raises: &quot;only integers, slices (`:`), ellipsis (`...`), numpy.newaxis (`None`) and integer or boolean arrays are valid indices&quot;\n",
      "label: python\n"
     ]
    }
   ],
   "source": [
    "print(\"  !before cleaned\")\n",
    "print_plot(51)"
   ]
  },
  {
   "cell_type": "markdown",
   "metadata": {},
   "source": [
    "```\n",
    "show the difference between cleaned and un cleand text\n",
    "```"
   ]
  },
  {
   "cell_type": "code",
   "execution_count": 7,
   "metadata": {},
   "outputs": [
    {
     "name": "stdout",
     "output_type": "stream",
     "text": [
      "  !after cleaned\n",
      "creating histogram raises quot integers slices ellipsis numpynewaxis none integer boolean arrays valid indicesquot\n",
      "label: python\n"
     ]
    }
   ],
   "source": [
    "df['title'] = df['title'].apply(clean_text)\n",
    "print(\"  !after cleaned\")\n",
    "print_plot(51)"
   ]
  },
  {
   "cell_type": "code",
   "execution_count": 8,
   "metadata": {},
   "outputs": [
    {
     "name": "stdout",
     "output_type": "stream",
     "text": [
      "89457\n"
     ]
    }
   ],
   "source": [
    "wordsPostCLean = df['title'].apply(lambda x: len(x.split(' '))).sum()\n",
    "print(wordsPostCLean)"
   ]
  },
  {
   "cell_type": "code",
   "execution_count": 9,
   "metadata": {},
   "outputs": [
    {
     "name": "stdout",
     "output_type": "stream",
     "text": [
      "the processiung has reduced the number of words by:\n",
      "45683\n",
      "                                                   title       label\n",
      "0                             using entries kivy classes      python\n",
      "1            package python software pylucene dependency      python\n",
      "2                           extracting time regex string      python\n",
      "3                add specific headers form model formset      python\n",
      "4          barplot dataframe using column set bar colors      python\n",
      "...                                                  ...         ...\n",
      "13933                                           way loop  javascript\n",
      "13934              stripe connect account id safe expose  javascript\n",
      "13935  handling multiple offers different peers webrt...  javascript\n",
      "13936  pixijs newbie looking advice troubleshoot text...  javascript\n",
      "13937      make sticky section horizontal scroll gallery  javascript\n",
      "\n",
      "[13938 rows x 2 columns]\n"
     ]
    }
   ],
   "source": [
    "print('the processiung has reduced the number of words by:')\n",
    "print(wordsPreClean-wordsPostCLean)\n",
    "print(df)"
   ]
  },
  {
   "cell_type": "markdown",
   "metadata": {},
   "source": [
    "```\n",
    "change the label from python and javascript to 0 and 1 respectively\n",
    "```"
   ]
  },
  {
   "cell_type": "code",
   "execution_count": 10,
   "metadata": {},
   "outputs": [
    {
     "name": "stdout",
     "output_type": "stream",
     "text": [
      "update the labels from python to 0 and javascript to 1 \n",
      "\n",
      "                                                   title label\n",
      "0                             using entries kivy classes     0\n",
      "1            package python software pylucene dependency     0\n",
      "2                           extracting time regex string     0\n",
      "3                add specific headers form model formset     0\n",
      "4          barplot dataframe using column set bar colors     0\n",
      "...                                                  ...   ...\n",
      "13933                                           way loop     1\n",
      "13934              stripe connect account id safe expose     1\n",
      "13935  handling multiple offers different peers webrt...     1\n",
      "13936  pixijs newbie looking advice troubleshoot text...     1\n",
      "13937      make sticky section horizontal scroll gallery     1\n",
      "\n",
      "[13938 rows x 2 columns]\n"
     ]
    }
   ],
   "source": [
    "for row in df.index:\n",
    "    if(df['label'][row] == 'python'):\n",
    "        df['label'][row] = 0 #case of python \n",
    "    else:\n",
    "        df['label'][row] = 1 #case of javascript\n",
    "print(\"update the labels from python to 0 and javascript to 1 \\n\")\n",
    "print(df)"
   ]
  },
  {
   "cell_type": "markdown",
   "metadata": {},
   "source": [
    "```\n",
    "Split data into train,validation,test\n",
    "```"
   ]
  },
  {
   "cell_type": "code",
   "execution_count": 11,
   "metadata": {},
   "outputs": [],
   "source": [
    "df = df.sample(frac=1).reset_index(drop=True) #shuffles data\n",
    "train_data = df.iloc[:round(len(df.index)*0.6),:] #takes 60% for test data\n",
    "train_title = train_data.title\n",
    "train_label = list(train_data.label)\n",
    "#if you algorithm doesn't need validation yuo can change the split to 80/20 train/test or whatever you fin to give the best results for you algorithm \n",
    "\n",
    "validation_data = df.iloc[round(len(df.index)*0.6):round(len(df.index)*0.8),:] #takes 20% for validation\n",
    "vali_title = validation_data.title\n",
    "vali_label = list(validation_data.label)\n",
    "\n",
    "test_data = df.iloc[round(len(df.index)*0.8):round(len(df.index)),:] #takes 20% for test\n",
    "test_title = test_data.title\n",
    "test_label = list(test_data.label)\n",
    "\n",
    "# print(train_data)\n",
    "# print(validation_data)\n",
    "# print(test_data)"
   ]
  },
  {
   "cell_type": "markdown",
   "metadata": {},
   "source": [
    "```\n",
    "Creates a document-term matrix using a count vector\n",
    "```"
   ]
  },
  {
   "cell_type": "code",
   "execution_count": 41,
   "metadata": {},
   "outputs": [],
   "source": [
    "from sklearn.feature_extraction.text import CountVectorizer\n",
    "\n",
    "vectorizer = CountVectorizer()\n",
    "vectorizer.fit(train_title)\n",
    "vectorizer.vocabulary_\n",
    "\n",
    "train_vector  = vectorizer.transform(train_title)\n",
    "train_title_temp = list(train_vector.toarray())\n",
    "training = np.array(train_title_temp) # document-term matrix\n",
    "output = np.array(train_label) # label\n",
    "\n",
    "trainingTextDF = pd.DataFrame(training,columns=vectorizer.vocabulary_)\n",
    "trainingLabelDF = pd.DataFrame(output,columns=[\"pythonORjavascript\"])\n",
    "\n",
    "# print(trainingTextDF)\n",
    "# print(trainingLabelDF)"
   ]
  },
  {
   "cell_type": "code",
   "execution_count": 13,
   "metadata": {},
   "outputs": [],
   "source": [
    "def hypothesis(X, theta):\n",
    "    z = np.dot(theta, X.T)\n",
    "    return 1/(1+np.exp(-(z))) - 0.0000001"
   ]
  },
  {
   "cell_type": "code",
   "execution_count": 14,
   "metadata": {},
   "outputs": [],
   "source": [
    "def cost(X, y, theta):\n",
    "    y1 = hypothesis(X, theta)\n",
    "    return -(1/len(X)) * np.sum(y*np.log(y1) + (1-y)*np.log(1-y1))"
   ]
  },
  {
   "cell_type": "code",
   "execution_count": 15,
   "metadata": {},
   "outputs": [],
   "source": [
    "def gradient_descent(X, y, theta, alpha, epochs):\n",
    "    m =len(X)\n",
    "    J = [cost(X, y, theta)] \n",
    "    for i in range(0, epochs):\n",
    "        h = hypothesis(X, theta)\n",
    "        for i in range(0, len(X.columns)):\n",
    "            theta[i] -= (alpha/m) * np.sum((h-y)*X.iloc[:, i])\n",
    "        J.append(cost(X, y, theta))\n",
    "    return J, theta    "
   ]
  },
  {
   "cell_type": "code",
   "execution_count": 16,
   "metadata": {},
   "outputs": [],
   "source": [
    "def predict(X, y, theta, alpha, epochs):\n",
    "    J, th = gradient_descent(X, y, theta, alpha, epochs) \n",
    "    h = hypothesis(X, theta)\n",
    "    for i in range(len(h)):\n",
    "        h[i]=1 if h[i]>=0.5 else 0\n",
    "    y = list(y)\n",
    "    acc = np.sum([y[i] == h[i] for i in range(len(y))])/len(y)\n",
    "    return J, acc"
   ]
  },
  {
   "cell_type": "markdown",
   "metadata": {},
   "source": [
    "```\n",
    "Add one extra column for the bias. This should be a column of ones because any real number remains unchanged if multiplied by one.\n",
    "```"
   ]
  },
  {
   "cell_type": "code",
   "execution_count": 17,
   "metadata": {},
   "outputs": [],
   "source": [
    "trainingTextDF = pd.concat([pd.Series(0, index = trainingTextDF.index, name = '00'), trainingTextDF], axis=1)\n",
    "# print(trainingTextDF)"
   ]
  },
  {
   "cell_type": "code",
   "execution_count": 18,
   "metadata": {},
   "outputs": [
    {
     "name": "stdout",
     "output_type": "stream",
     "text": [
      "(8363, 8515)\n",
      "(8363,)\n"
     ]
    }
   ],
   "source": [
    "X = trainingTextDF\n",
    "y = trainingLabelDF[\"pythonORjavascript\"]\n",
    "print(X.shape)\n",
    "print(y.shape)"
   ]
  },
  {
   "cell_type": "code",
   "execution_count": 19,
   "metadata": {},
   "outputs": [],
   "source": [
    "theta = [0]*len(X.columns)\n",
    "# theta"
   ]
  },
  {
   "cell_type": "code",
   "execution_count": 20,
   "metadata": {},
   "outputs": [],
   "source": [
    "L, theta = gradient_descent(X, y, theta, 0.03, 2)\n",
    "# print(L,theta)"
   ]
  },
  {
   "cell_type": "code",
   "execution_count": 21,
   "metadata": {},
   "outputs": [
    {
     "data": {
      "text/plain": [
       "([0.6924960439601744,\n",
       "  0.6921715329442102,\n",
       "  0.6918477211208565,\n",
       "  0.6915246065021596],\n",
       " 0.8331938299653234)"
      ]
     },
     "execution_count": 21,
     "metadata": {},
     "output_type": "execute_result"
    }
   ],
   "source": [
    "predict(X, y, theta, 0.03, 3)"
   ]
  },
  {
   "cell_type": "code",
   "execution_count": 22,
   "metadata": {},
   "outputs": [],
   "source": [
    "theta = [0]*len(X.columns)\n",
    "J, acc = predict(X, y, theta, 0.005, 10)"
   ]
  },
  {
   "cell_type": "code",
   "execution_count": 37,
   "metadata": {},
   "outputs": [
    {
     "name": "stdout",
     "output_type": "stream",
     "text": [
      "accuracy : 0.8370202080593089 with 0.005 learning rate and 10 iterations)\n"
     ]
    }
   ],
   "source": [
    "print(\"accuracy :\",acc,\"with 0.005 learning rate and 10 iterations)\")"
   ]
  },
  {
   "cell_type": "code",
   "execution_count": 39,
   "metadata": {},
   "outputs": [
    {
     "name": "stdout",
     "output_type": "stream",
     "text": [
      "501\n"
     ]
    },
    {
     "data": {
      "image/png": "[encoded data removed]",
      "text/plain": [
       "<Figure size 864x576 with 1 Axes>"
      ]
     },
     "metadata": {
      "needs_background": "light"
     },
     "output_type": "display_data"
    }
   ],
   "source": [
    "print(len(J))\n",
    "plt.figure(figsize = (12, 8))\n",
    "plt.scatter(range(0, len(J)), J)\n",
    "plt.xlabel(\"Epochs\")\n",
    "plt.ylabel(\"Cost\")\n",
    "plt.show()"
   ]
  },
  {
   "cell_type": "code",
   "execution_count": 25,
   "metadata": {},
   "outputs": [],
   "source": [
    "theta = [0]*len(X.columns)\n",
    "J, acc = predict(X, y, theta, 0.0001, 100)"
   ]
  },
  {
   "cell_type": "code",
   "execution_count": 50,
   "metadata": {},
   "outputs": [
    {
     "name": "stdout",
     "output_type": "stream",
     "text": [
      "accuracy : 0.8564764980265519 with 0.0001 learning rate and 100 iterations)\n"
     ]
    }
   ],
   "source": [
    "print(\"accuracy :\",acc,\"with 0.0001 learning rate and 100 iterations)\")"
   ]
  },
  {
   "cell_type": "code",
   "execution_count": 38,
   "metadata": {},
   "outputs": [
    {
     "name": "stdout",
     "output_type": "stream",
     "text": [
      "501\n"
     ]
    },
    {
     "data": {
      "image/png": "[encoded data removed]",
      "text/plain": [
       "<Figure size 1440x720 with 1 Axes>"
      ]
     },
     "metadata": {
      "needs_background": "light"
     },
     "output_type": "display_data"
    }
   ],
   "source": [
    "print(len(J))\n",
    "plt.figure(figsize = (20, 10))\n",
    "plt.scatter(range(0, len(J)), J)\n",
    "plt.xlabel(\"Epochs\")\n",
    "plt.ylabel(\"Cost\")\n",
    "plt.show()"
   ]
  },
  {
   "cell_type": "code",
   "execution_count": 28,
   "metadata": {},
   "outputs": [],
   "source": [
    "theta = [0]*len(X.columns)\n",
    "J, acc = predict(X, y, theta, 0.005, 500)"
   ]
  },
  {
   "cell_type": "code",
   "execution_count": 35,
   "metadata": {},
   "outputs": [
    {
     "name": "stdout",
     "output_type": "stream",
     "text": [
      "accuracy : 0.8370202080593089 with 0.005 learning rate and 500 iterations)\n"
     ]
    }
   ],
   "source": [
    "print(\"accuracy :\",acc,\"with 0.005 learning rate and 500 iterations)\")"
   ]
  },
  {
   "cell_type": "code",
   "execution_count": 34,
   "metadata": {},
   "outputs": [
    {
     "name": "stdout",
     "output_type": "stream",
     "text": [
      "501\n"
     ]
    },
    {
     "data": {
      "image/png": "[encoded data removed]",
      "text/plain": [
       "<Figure size 1440x720 with 1 Axes>"
      ]
     },
     "metadata": {
      "needs_background": "light"
     },
     "output_type": "display_data"
    }
   ],
   "source": [
    "print(len(J))\n",
    "plt.figure(figsize = (20, 10))\n",
    "plt.scatter(range(0, len(J)), J)\n",
    "plt.xlabel(\"Epochs\")\n",
    "plt.ylabel(\"Cost\")\n",
    "plt.show()"
   ]
  },
  {
   "cell_type": "code",
   "execution_count": 44,
   "metadata": {},
   "outputs": [
    {
     "name": "stdout",
     "output_type": "stream",
     "text": [
      "(2787, 8515)\n",
      "(2787,)\n"
     ]
    }
   ],
   "source": [
    "vali_vector  = vectorizer.transform(vali_title)\n",
    "vali_title_temp = list(vali_vector.toarray())\n",
    "validating = np.array(vali_title_temp) # document-term matrix\n",
    "vali_output = np.array(vali_label) # label\n",
    "\n",
    "validatingTextDF = pd.DataFrame(validating,columns=vectorizer.vocabulary_)\n",
    "validatingLabelDF = pd.DataFrame(vali_output,columns=[\"pythonORjavascript\"])\n",
    "\n",
    "validatingTextDF = pd.concat([pd.Series(0, index = validatingTextDF.index, name = '00'), validatingTextDF], axis=1)\n",
    "# print(trainingTextDF)\n",
    "\n",
    "X = validatingTextDF\n",
    "y = validatingLabelDF[\"pythonORjavascript\"]\n",
    "print(X.shape)\n",
    "print(y.shape)\n"
   ]
  },
  {
   "cell_type": "code",
   "execution_count": 47,
   "metadata": {},
   "outputs": [
    {
     "data": {
      "text/plain": [
       "([0.6924724430263196,\n",
       "  0.6921361983152089,\n",
       "  0.6918006970154504,\n",
       "  0.6914659367305807],\n",
       " 0.8514531754574811)"
      ]
     },
     "execution_count": 47,
     "metadata": {},
     "output_type": "execute_result"
    }
   ],
   "source": [
    "theta = [0]*len(X.columns)\n",
    "\n",
    "L, theta = gradient_descent(X, y, theta, 0.03, 2)\n",
    "\n",
    "predict(X, y, theta, 0.03, 3)\n"
   ]
  },
  {
   "cell_type": "code",
   "execution_count": 48,
   "metadata": {},
   "outputs": [
    {
     "name": "stdout",
     "output_type": "stream",
     "text": [
      "accuracy : 0.8507355579476139 with 0.005 learning rate and 10 iterations)\n",
      "11\n"
     ]
    },
    {
     "data": {
      "image/png": "[encoded data removed]",
      "text/plain": [
       "<Figure size 864x576 with 1 Axes>"
      ]
     },
     "metadata": {
      "needs_background": "light"
     },
     "output_type": "display_data"
    }
   ],
   "source": [
    "theta = [0]*len(X.columns)\n",
    "J, acc = predict(X, y, theta, 0.005, 10)\n",
    "\n",
    "print(\"accuracy :\",acc,\"with 0.005 learning rate and 10 iterations)\")\n",
    "\n",
    "print(len(J))\n",
    "plt.figure(figsize = (12, 8))\n",
    "plt.scatter(range(0, len(J)), J)\n",
    "plt.xlabel(\"Epochs\")\n",
    "plt.ylabel(\"Cost\")\n",
    "plt.show()"
   ]
  },
  {
   "cell_type": "code",
   "execution_count": 49,
   "metadata": {},
   "outputs": [
    {
     "name": "stdout",
     "output_type": "stream",
     "text": [
      "accuracy : 0.8564764980265519 with 0.005 learning rate and 500 iterations)\n",
      "501\n"
     ]
    },
    {
     "data": {
      "image/png": "[encoded data removed]",
      "text/plain": [
       "<Figure size 1440x720 with 1 Axes>"
      ]
     },
     "metadata": {
      "needs_background": "light"
     },
     "output_type": "display_data"
    }
   ],
   "source": [
    "theta = [0]*len(X.columns)\n",
    "J, acc = predict(X, y, theta, 0.005, 500)\n",
    "\n",
    "print(\"accuracy :\",acc,\"with 0.005 learning rate and 500 iterations)\")\n",
    "\n",
    "print(len(J))\n",
    "plt.figure(figsize = (20, 10))\n",
    "plt.scatter(range(0, len(J)), J)\n",
    "plt.xlabel(\"Epochs\")\n",
    "plt.ylabel(\"Cost\")\n",
    "plt.show()"
   ]
  },
  {
   "cell_type": "code",
   "execution_count": 51,
   "metadata": {},
   "outputs": [
    {
     "name": "stdout",
     "output_type": "stream",
     "text": [
      "(2788, 8515)\n",
      "(2788,)\n"
     ]
    }
   ],
   "source": [
    "test_vector  = vectorizer.transform(test_title)\n",
    "test_title_temp = list(test_vector.toarray())\n",
    "testing = np.array(test_title_temp) # document-term matrix\n",
    "test_output = np.array(test_label) # label\n",
    "\n",
    "testingTextDF = pd.DataFrame(testing,columns=vectorizer.vocabulary_)\n",
    "testingLabelDF = pd.DataFrame(test_output,columns=[\"pythonORjavascript\"])\n",
    "\n",
    "testingTextDF = pd.concat([pd.Series(0, index = testingTextDF.index, name = '00'), testingTextDF], axis=1)\n",
    "# print(trainingTextDF)\n",
    "\n",
    "X = testingTextDF\n",
    "y = testingLabelDF[\"pythonORjavascript\"]\n",
    "print(X.shape)\n",
    "print(y.shape)"
   ]
  },
  {
   "cell_type": "code",
   "execution_count": 52,
   "metadata": {},
   "outputs": [
    {
     "data": {
      "text/plain": [
       "([0.6924677634786601,\n",
       "  0.692129096913641,\n",
       "  0.6917911215297674,\n",
       "  0.6914538355537342],\n",
       " 0.8586800573888091)"
      ]
     },
     "execution_count": 52,
     "metadata": {},
     "output_type": "execute_result"
    }
   ],
   "source": [
    "theta = [0]*len(X.columns)\n",
    "\n",
    "L, theta = gradient_descent(X, y, theta, 0.03, 2)\n",
    "\n",
    "predict(X, y, theta, 0.03, 3)"
   ]
  },
  {
   "cell_type": "code",
   "execution_count": 53,
   "metadata": {},
   "outputs": [
    {
     "name": "stdout",
     "output_type": "stream",
     "text": [
      "accuracy : 0.8611908177905309 with 0.005 learning rate and 500 iterations)\n",
      "501\n"
     ]
    },
    {
     "data": {
      "image/png": "[encoded data removed]",
      "text/plain": [
       "<Figure size 1440x720 with 1 Axes>"
      ]
     },
     "metadata": {
      "needs_background": "light"
     },
     "output_type": "display_data"
    }
   ],
   "source": [
    "theta = [0]*len(X.columns)\n",
    "J, acc = predict(X, y, theta, 0.005, 500)\n",
    "\n",
    "print(\"accuracy :\",acc,\"with 0.005 learning rate and 500 iterations)\")\n",
    "\n",
    "print(len(J))\n",
    "plt.figure(figsize = (20, 10))\n",
    "plt.scatter(range(0, len(J)), J)\n",
    "plt.xlabel(\"Epochs\")\n",
    "plt.ylabel(\"Cost\")\n",
    "plt.show()"
   ]
  }
 ],
 "metadata": {
  "interpreter": {
   "hash": "916dbcbb3f70747c44a77c7bcd40155683ae19c65e1c03b4aa3499c5328201f1"
  },
  "kernelspec": {
   "display_name": "Python 3.8.5 64-bit",
   "name": "python3"
  },
  "language_info": {
   "codemirror_mode": {
    "name": "ipython",
    "version": 3
   },
   "file_extension": ".py",
   "mimetype": "text/x-python",
   "name": "python",
   "nbconvert_exporter": "python",
   "pygments_lexer": "ipython3",
   "version": "3.8.5"
  },
  "orig_nbformat": 4
 },
 "nbformat": 4,
 "nbformat_minor": 2
}